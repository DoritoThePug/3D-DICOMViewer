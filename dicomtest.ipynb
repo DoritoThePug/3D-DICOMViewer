{
 "cells": [
  {
   "cell_type": "code",
   "execution_count": 3,
   "id": "8eb7af67",
   "metadata": {},
   "outputs": [
    {
     "data": {
      "text/plain": [
       "WindowsPath('C:/Users/Jaden/Documents/Portfolio/DICOM2MODEL/venv/Lib/site-packages/pydicom/data/test_files/CT_small.dcm')"
      ]
     },
     "execution_count": 3,
     "metadata": {},
     "output_type": "execute_result"
    }
   ],
   "source": [
    "from pydicom import examples\n",
    "path = examples.get_path(\"ct\")\n",
    "path"
   ]
  },
  {
   "cell_type": "code",
   "execution_count": 14,
   "id": "a4ecc5ba",
   "metadata": {},
   "outputs": [
    {
     "name": "stderr",
     "output_type": "stream",
     "text": [
      "c:\\Users\\Jaden\\Documents\\Portfolio\\DICOM2MODEL\\venv\\Lib\\site-packages\\pydicom\\valuerep.py:440: UserWarning: Invalid value for VR UI: '1.2.826.0.1.3680043.8.1055.1.20111102150758591.96842950.07877442'. Please see <https://dicom.nema.org/medical/dicom/current/output/html/part05.html#table_6.2-1> for allowed values for each VR.\n",
      "  warn_and_log(msg)\n"
     ]
    },
    {
     "data": {
      "text/plain": [
       "Dataset.file_meta -------------------------------\n",
       "(0002,0000) File Meta Information Group Length  UL: 230\n",
       "(0002,0001) File Meta Information Version       OB: b'\\x00\\x01'\n",
       "(0002,0002) Media Storage SOP Class UID         UI: CT Image Storage\n",
       "(0002,0003) Media Storage SOP Instance UID      UI: 1.2.826.0.1.3680043.8.1055.1.20111102150758825.42401392.26682309\n",
       "(0002,0010) Transfer Syntax UID                 UI: JPEG 2000 Image Compression\n",
       "(0002,0012) Implementation Class UID            UI: 1.2.826.0.1.3680043.8.1055.1\n",
       "(0002,0013) Implementation Version Name         SH: 'dicomlibrary-100'\n",
       "(0002,0016) Source Application Entity Title     AE: 'DICOMLIBRARY'\n",
       "-------------------------------------------------\n",
       "(0008,0005) Specific Character Set              CS: 'ISO_IR 100'\n",
       "(0008,0008) Image Type                          CS: ['ORIGINAL', 'PRIMARY', 'AXIAL', 'HELIX']\n",
       "(0008,0012) Instance Creation Date              DA: '20061012'\n",
       "(0008,0013) Instance Creation Time              TM: '091606.000000'\n",
       "(0008,0016) SOP Class UID                       UI: CT Image Storage\n",
       "(0008,0018) SOP Instance UID                    UI: 1.2.826.0.1.3680043.8.1055.1.20111102150758825.42401392.26682309\n",
       "(0008,0020) Study Date                          DA: '20061012'\n",
       "(0008,0022) Acquisition Date                    DA: '20061012'\n",
       "(0008,0023) Content Date                        DA: '20061012'\n",
       "(0008,0030) Study Time                          TM: '090258.000000'\n",
       "(0008,0032) Acquisition Time                    TM: '085229.000000'\n",
       "(0008,0033) Content Time                        TM: '085229.750000'\n",
       "(0008,0060) Modality                            CS: 'CT'\n",
       "(0008,1030) Study Description                   LO: 'CT1 abdomen'\n",
       "(0008,1032)  Procedure Code Sequence  1 item(s) ---- \n",
       "   (0008,0100) Code Value                          SH: 'CTABDOM'\n",
       "   (0008,0102) Coding Scheme Designator            SH: 'XPLORE'\n",
       "   (0008,0104) Code Meaning                        LO: 'CT1 abdomen'\n",
       "   ---------\n",
       "(0008,103E) Series Description                  LO: 'ARTERIELLE'\n",
       "(0008,1111)  Referenced Performed Procedure Step Sequence  1 item(s) ---- \n",
       "   (0008,1150) Referenced SOP Class UID            UI: Modality Performed Procedure Step SOP Class\n",
       "   (0008,1155) Referenced SOP Instance UID         UI: 1.2.840.113704.1.111.5104.1160636572.51\n",
       "   ---------\n",
       "(0010,0010) Patient's Name                      PN: 'Anonymized'\n",
       "(0010,0020) Patient ID                          LO: '0'\n",
       "(0010,1010) Patient's Age                       AS: '000Y'\n",
       "(0018,0010) Contrast/Bolus Agent                LO: 'CONTRAST'\n",
       "(0018,0022) Scan Options                        CS: 'HELIX'\n",
       "(0018,0050) Slice Thickness                     DS: '1.0'\n",
       "(0018,0060) KVP                                 DS: '120'\n",
       "(0018,0088) Spacing Between Slices              DS: '0.5'\n",
       "(0018,0090) Data Collection Diameter            DS: '302'\n",
       "(0018,1030) Protocol Name                       LO: 'ART.RENALES 12/Abdomen/Hx'\n",
       "(0018,1100) Reconstruction Diameter             DS: '302'\n",
       "(0018,1120) Gantry/Detector Tilt                DS: '0'\n",
       "(0018,1130) Table Height                        DS: '151'\n",
       "(0018,1140) Rotation Direction                  CS: 'CW'\n",
       "(0018,1151) X-Ray Tube Current                  IS: '400'\n",
       "(0018,1152) Exposure                            IS: '300'\n",
       "(0018,1160) Filter Type                         SH: 'B'\n",
       "(0018,1210) Convolution Kernel                  SH: 'B'\n",
       "(0018,5100) Patient Position                    CS: 'FFS'\n",
       "(0020,000D) Study Instance UID                  UI: 1.2.826.0.1.3680043.8.1055.1.20111102150758591.92402465.76095170\n",
       "(0020,000E) Series Instance UID                 UI: 1.2.826.0.1.3680043.8.1055.1.20111102150758591.96842950.07877442\n",
       "(0020,0011) Series Number                       IS: '6168'\n",
       "(0020,0013) Instance Number                     IS: '2'\n",
       "(0020,0032) Image Position (Patient)            DS: [-151.493508, -36.6564417, 1294.5]\n",
       "(0020,0037) Image Orientation (Patient)         DS: [1, 0, 0, 0, 1, 0]\n",
       "(0020,0052) Frame of Reference UID              UI: 1.2.840.113704.1.111.3704.1160637109.3\n",
       "(0020,1041) Slice Location                      DS: '-324.50'\n",
       "(0020,4000) Image Comments                      LT: Array of 57 elements\n",
       "(0028,0002) Samples per Pixel                   US: 1\n",
       "(0028,0004) Photometric Interpretation          CS: 'MONOCHROME2'\n",
       "(0028,0010) Rows                                US: 512\n",
       "(0028,0011) Columns                             US: 512\n",
       "(0028,0030) Pixel Spacing                       DS: [0.58984375, 0.58984375]\n",
       "(0028,0100) Bits Allocated                      US: 16\n",
       "(0028,0101) Bits Stored                         US: 12\n",
       "(0028,0102) High Bit                            US: 11\n",
       "(0028,0103) Pixel Representation                US: 0\n",
       "(0028,1050) Window Center                       DS: [00050, 00050]\n",
       "(0028,1051) Window Width                        DS: [00350, 00350]\n",
       "(0028,1052) Rescale Intercept                   DS: '-1000'\n",
       "(0028,1053) Rescale Slope                       DS: '1'\n",
       "(0028,2110) Lossy Image Compression             CS: '01'\n",
       "(0028,2112) Lossy Image Compression Ratio       DS: '5.866750'\n",
       "(0040,0007) Scheduled Procedure Step Descriptio LO: 'CT1 abdomen'\n",
       "(0040,0008)  Scheduled Protocol Code Sequence  1 item(s) ---- \n",
       "   (0008,0100) Code Value                          SH: 'CTABDOM'\n",
       "   (0008,0102) Coding Scheme Designator            SH: 'XPLORE'\n",
       "   (0008,0104) Code Meaning                        LO: 'CT1 abdomen'\n",
       "   ---------\n",
       "(0040,0009) Scheduled Procedure Step ID         SH: 'A10026177758'\n",
       "(0040,0254) Performed Procedure Step Descriptio LO: 'CT1 abdomen'\n",
       "(0040,0260)  Performed Protocol Code Sequence  1 item(s) ---- \n",
       "   (0008,0100) Code Value                          SH: 'CTABDOM'\n",
       "   (0008,0102) Coding Scheme Designator            SH: 'XPLORE'\n",
       "   (0008,0104) Code Meaning                        LO: 'CT1 abdomen'\n",
       "   ---------\n",
       "(0040,0275)  Request Attributes Sequence  1 item(s) ---- \n",
       "   (0040,0007) Scheduled Procedure Step Descriptio LO: 'CT1 abdomen'\n",
       "   (0040,0008)  Scheduled Protocol Code Sequence  1 item(s) ---- \n",
       "      (0008,0100) Code Value                          SH: 'CTABDOM'\n",
       "      (0008,0102) Coding Scheme Designator            SH: 'XPLORE'\n",
       "      (0008,0104) Code Meaning                        LO: 'CT1 abdomen'\n",
       "      ---------\n",
       "   (0040,0009) Scheduled Procedure Step ID         SH: 'A10026177758'\n",
       "   (0040,1001) Requested Procedure ID              SH: 'A10026177757'\n",
       "   ---------\n",
       "(0040,1001) Requested Procedure ID              SH: 'A10026177757'\n",
       "(7FE0,0010) Pixel Data                          OW: Array of 89386 elements"
      ]
     },
     "execution_count": 14,
     "metadata": {},
     "output_type": "execute_result"
    }
   ],
   "source": [
    "from pydicom import dcmread\n",
    "\n",
    "ds = dcmread(\"./data/abdomen/image-00001.dcm\")\n",
    "\n",
    "ds"
   ]
  },
  {
   "cell_type": "code",
   "execution_count": 15,
   "id": "8ed870d5",
   "metadata": {},
   "outputs": [
    {
     "name": "stdout",
     "output_type": "stream",
     "text": [
      "[-151.493508, -36.6564417, 1294.5]\n"
     ]
    }
   ],
   "source": [
    "print(ds.ImagePositionPatient)"
   ]
  },
  {
   "cell_type": "code",
   "execution_count": 20,
   "id": "0f81be35",
   "metadata": {},
   "outputs": [
    {
     "data": {
      "text/plain": [
       "array([[[1, 2],\n",
       "        [3, 4]],\n",
       "\n",
       "       [[1, 2],\n",
       "        [3, 4]],\n",
       "\n",
       "       [[1, 2],\n",
       "        [3, 4]]])"
      ]
     },
     "execution_count": 20,
     "metadata": {},
     "output_type": "execute_result"
    }
   ],
   "source": [
    "import numpy as np\n",
    "\n",
    "\n",
    "a = np.stack([[[1, 2], [3, 4]], [[1, 2], [3, 4]], [[1, 2], [3, 4]]])\n",
    "a"
   ]
  }
 ],
 "metadata": {
  "kernelspec": {
   "display_name": "venv",
   "language": "python",
   "name": "python3"
  },
  "language_info": {
   "codemirror_mode": {
    "name": "ipython",
    "version": 3
   },
   "file_extension": ".py",
   "mimetype": "text/x-python",
   "name": "python",
   "nbconvert_exporter": "python",
   "pygments_lexer": "ipython3",
   "version": "3.13.1"
  }
 },
 "nbformat": 4,
 "nbformat_minor": 5
}
